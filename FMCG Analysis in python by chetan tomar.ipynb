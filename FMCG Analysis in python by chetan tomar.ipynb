{
 "cells": [
  {
   "cell_type": "markdown",
   "id": "9dad5425-6cea-42db-901c-1eda1ee7283a",
   "metadata": {},
   "source": [
    " ## Pandas FMCG Analysis "
   ]
  },
  {
   "cell_type": "code",
   "execution_count": 1,
   "id": "f1799665-add3-423f-a689-14478448b8fc",
   "metadata": {},
   "outputs": [],
   "source": [
    "# Importing required libraries\n",
    "\n",
    "import pandas as pd\n",
    "import numpy as np"
   ]
  },
  {
   "cell_type": "code",
   "execution_count": 2,
   "id": "d6c2a180-d22f-43a4-bc3f-1d0af607a6b1",
   "metadata": {},
   "outputs": [
    {
     "name": "stdout",
     "output_type": "stream",
     "text": [
      "<class 'pandas.core.frame.DataFrame'>\n",
      "RangeIndex: 224 entries, 0 to 223\n",
      "Data columns (total 7 columns):\n",
      " #   Column        Non-Null Count  Dtype \n",
      "---  ------        --------------  ----- \n",
      " 0   Month         224 non-null    object\n",
      " 1   Channel       224 non-null    object\n",
      " 2   Sub-Channels  224 non-null    object\n",
      " 3   Product Name  224 non-null    object\n",
      " 4   Category      224 non-null    object\n",
      " 5   Qty           224 non-null    object\n",
      " 6   Sales         224 non-null    object\n",
      "dtypes: object(7)\n",
      "memory usage: 12.4+ KB\n",
      "None\n"
     ]
    },
    {
     "data": {
      "text/html": [
       "<div>\n",
       "<style scoped>\n",
       "    .dataframe tbody tr th:only-of-type {\n",
       "        vertical-align: middle;\n",
       "    }\n",
       "\n",
       "    .dataframe tbody tr th {\n",
       "        vertical-align: top;\n",
       "    }\n",
       "\n",
       "    .dataframe thead th {\n",
       "        text-align: right;\n",
       "    }\n",
       "</style>\n",
       "<table border=\"1\" class=\"dataframe\">\n",
       "  <thead>\n",
       "    <tr style=\"text-align: right;\">\n",
       "      <th></th>\n",
       "      <th>Month</th>\n",
       "      <th>Channel</th>\n",
       "      <th>Sub-Channels</th>\n",
       "      <th>Product Name</th>\n",
       "      <th>Category</th>\n",
       "      <th>Qty</th>\n",
       "      <th>Sales</th>\n",
       "    </tr>\n",
       "  </thead>\n",
       "  <tbody>\n",
       "    <tr>\n",
       "      <th>0</th>\n",
       "      <td>01-Dec-20</td>\n",
       "      <td>Marketplace</td>\n",
       "      <td>AMAZON</td>\n",
       "      <td>ALOE + AMLA JUICE 1 L</td>\n",
       "      <td>Juices</td>\n",
       "      <td>1,116</td>\n",
       "      <td>4,28,700</td>\n",
       "    </tr>\n",
       "    <tr>\n",
       "      <th>1</th>\n",
       "      <td>01-Dec-20</td>\n",
       "      <td>Marketplace</td>\n",
       "      <td>AMAZON</td>\n",
       "      <td>ALOE + GARCINIA JUICE 1 L</td>\n",
       "      <td>Juices</td>\n",
       "      <td>3,003</td>\n",
       "      <td>13,74,831</td>\n",
       "    </tr>\n",
       "    <tr>\n",
       "      <th>2</th>\n",
       "      <td>01-Dec-20</td>\n",
       "      <td>Marketplace</td>\n",
       "      <td>AMAZON</td>\n",
       "      <td>ALOE VERA JUICE 1 L</td>\n",
       "      <td>Juices</td>\n",
       "      <td>2,962</td>\n",
       "      <td>7,32,167</td>\n",
       "    </tr>\n",
       "    <tr>\n",
       "      <th>3</th>\n",
       "      <td>01-Dec-20</td>\n",
       "      <td>Marketplace</td>\n",
       "      <td>AMAZON</td>\n",
       "      <td>ALOE VERA SKIN GEL 500 GM</td>\n",
       "      <td>Gourmet Nutrition</td>\n",
       "      <td>1,004</td>\n",
       "      <td>3,77,100</td>\n",
       "    </tr>\n",
       "    <tr>\n",
       "      <th>4</th>\n",
       "      <td>01-Dec-20</td>\n",
       "      <td>Marketplace</td>\n",
       "      <td>AMAZON</td>\n",
       "      <td>NEEM JUICE 1 L</td>\n",
       "      <td>Juices</td>\n",
       "      <td>555</td>\n",
       "      <td>1,52,287</td>\n",
       "    </tr>\n",
       "  </tbody>\n",
       "</table>\n",
       "</div>"
      ],
      "text/plain": [
       "       Month      Channel Sub-Channels               Product Name  \\\n",
       "0  01-Dec-20  Marketplace       AMAZON      ALOE + AMLA JUICE 1 L   \n",
       "1  01-Dec-20  Marketplace       AMAZON  ALOE + GARCINIA JUICE 1 L   \n",
       "2  01-Dec-20  Marketplace       AMAZON        ALOE VERA JUICE 1 L   \n",
       "3  01-Dec-20  Marketplace       AMAZON  ALOE VERA SKIN GEL 500 GM   \n",
       "4  01-Dec-20  Marketplace       AMAZON             NEEM JUICE 1 L   \n",
       "\n",
       "            Category      Qty        Sales  \n",
       "0             Juices   1,116     4,28,700   \n",
       "1             Juices   3,003    13,74,831   \n",
       "2             Juices   2,962     7,32,167   \n",
       "3  Gourmet Nutrition   1,004     3,77,100   \n",
       "4             Juices     555     1,52,287   "
      ]
     },
     "execution_count": 2,
     "metadata": {},
     "output_type": "execute_result"
    }
   ],
   "source": [
    "# Loading CSV file \n",
    "\n",
    "data = pd.read_csv(\"Raw Sales Data.csv\")\n",
    "df = pd.DataFrame(data)\n",
    "print(df.info())\n",
    "df.head()"
   ]
  },
  {
   "cell_type": "code",
   "execution_count": 25,
   "id": "8343eb38-5575-48af-af32-2ccd3e9e181f",
   "metadata": {},
   "outputs": [],
   "source": [
    "# changing datatype of column's\n",
    "\n",
    "df['Qty'] = df['Qty'].str.replace(',', '').astype(int)\n",
    "df['Sales'] = df['Sales'].str.replace(',', '').astype(int)\n",
    "df['Month'] = pd.to_datetime(df['Month']).dt.month_name()"
   ]
  },
  {
   "cell_type": "code",
   "execution_count": 26,
   "id": "a11b1f76-1eb5-45b8-9527-c0c999d5ffa3",
   "metadata": {},
   "outputs": [
    {
     "data": {
      "text/plain": [
       "Month\n",
       "January     67732\n",
       "February    76393\n",
       "March       80229\n",
       "December    85427\n",
       "Name: Qty, dtype: int32"
      ]
     },
     "execution_count": 26,
     "metadata": {},
     "output_type": "execute_result"
    }
   ],
   "source": [
    "# Que 1. Monthwise number of quantities sold.\n",
    "\n",
    "Monthly_qty_sold = df.groupby(\"Month\")['Qty'].sum().sort_values()\n",
    "Monthly_qty_sold"
   ]
  },
  {
   "cell_type": "code",
   "execution_count": 27,
   "id": "f952ca08-ec44-4f80-b8f9-76335d2fa1ec",
   "metadata": {},
   "outputs": [
    {
     "data": {
      "text/plain": [
       "Category\n",
       "Functional nutrition     42354\n",
       "Gourmet Nutrition        89279\n",
       "Juices                  178148\n",
       "Name: Qty, dtype: int32"
      ]
     },
     "execution_count": 27,
     "metadata": {},
     "output_type": "execute_result"
    }
   ],
   "source": [
    "# Que 2. Category wise Qty sold.\n",
    "\n",
    "cate_sales = df.groupby(\"Category\")[\"Qty\"].sum()\n",
    "cate_sales"
   ]
  },
  {
   "cell_type": "code",
   "execution_count": 28,
   "id": "25dd2b8e-b019-42fe-9ba9-cc8793c9df15",
   "metadata": {},
   "outputs": [
    {
     "data": {
      "text/plain": [
       "Sub-Channels\n",
       "Offline - Central      375332\n",
       "GOQII                  582600\n",
       "Offline - East         811146\n",
       "Offline -North        1206564\n",
       "Big Basket            1207522\n",
       "Offline - South       3446395\n",
       "Flipkart              3770415\n",
       "Offline - MT          6257948\n",
       "Offline - West        6441427\n",
       "D2C                  28047538\n",
       "AMAZON               35606804\n",
       "Name: Sales, dtype: int32"
      ]
     },
     "execution_count": 28,
     "metadata": {},
     "output_type": "execute_result"
    }
   ],
   "source": [
    "# Que 3. Sub-channel wise total sales\n",
    "\n",
    "sub_sales = df.groupby(\"Sub-Channels\")[\"Sales\"].sum().sort_values()\n",
    "sub_sales"
   ]
  },
  {
   "cell_type": "code",
   "execution_count": 29,
   "id": "da5497bb-3b9e-4a27-9e0e-e40ae7627555",
   "metadata": {},
   "outputs": [
    {
     "data": {
      "text/html": [
       "<div>\n",
       "<style scoped>\n",
       "    .dataframe tbody tr th:only-of-type {\n",
       "        vertical-align: middle;\n",
       "    }\n",
       "\n",
       "    .dataframe tbody tr th {\n",
       "        vertical-align: top;\n",
       "    }\n",
       "\n",
       "    .dataframe thead th {\n",
       "        text-align: right;\n",
       "    }\n",
       "</style>\n",
       "<table border=\"1\" class=\"dataframe\">\n",
       "  <thead>\n",
       "    <tr style=\"text-align: right;\">\n",
       "      <th></th>\n",
       "      <th>Month</th>\n",
       "      <th>Sales</th>\n",
       "    </tr>\n",
       "  </thead>\n",
       "  <tbody>\n",
       "    <tr>\n",
       "      <th>0</th>\n",
       "      <td>March</td>\n",
       "      <td>25127827</td>\n",
       "    </tr>\n",
       "  </tbody>\n",
       "</table>\n",
       "</div>"
      ],
      "text/plain": [
       "   Month     Sales\n",
       "0  March  25127827"
      ]
     },
     "execution_count": 29,
     "metadata": {},
     "output_type": "execute_result"
    }
   ],
   "source": [
    "# Que 4. Highest sale in which month.\n",
    "\n",
    "Monthly_highsales =  df.groupby(\"Month\")[\"Sales\"].sum().nlargest(1)\n",
    "month_high = pd.DataFrame(Monthly_highsales, columns=[\"Sales\"]).reset_index()\n",
    "month_high"
   ]
  },
  {
   "cell_type": "code",
   "execution_count": 30,
   "id": "f45882d2-a2c4-44b9-b709-69984d4fc9c5",
   "metadata": {},
   "outputs": [
    {
     "data": {
      "text/plain": [
       "Product Name\n",
       "ALOE + GARCINIA JUICE     12249252\n",
       "Name: Sales, dtype: int32"
      ]
     },
     "execution_count": 30,
     "metadata": {},
     "output_type": "execute_result"
    }
   ],
   "source": [
    "# Que 5. Highest selling product (based on sales) (packaging quantity doesn't matter. Ex. consider \"GET SLIM JUICE 1 L\" and  \"GET SLIM JUICE 500 ML\" as one product)\n",
    "\n",
    "highest_sold_product = df[\"Product Name\"].str.split('\\d+').str[0]\n",
    "highest_selling_product = df.groupby(highest_sold_product)[\"Sales\"].sum().nlargest(1)\n",
    "highest_selling_product"
   ]
  },
  {
   "cell_type": "code",
   "execution_count": 31,
   "id": "07273cd0-0aff-4513-9d6c-7ad92eb63863",
   "metadata": {
    "tags": []
   },
   "outputs": [
    {
     "name": "stdout",
     "output_type": "stream",
     "text": [
      "                       Product Name\n",
      "0                ALOE + AMLA JUICE \n",
      "1            ALOE + GARCINIA JUICE \n",
      "2                  ALOE VERA JUICE \n",
      "3               ALOE VERA SKIN GEL \n",
      "4                       NEEM JUICE \n",
      "5                       NONI JUICE \n",
      "6           SLIM SHAKE - CHOCOLATE \n",
      "7               SLIM SHAKE - MANGO \n",
      "8                   TRIPHALA JUICE \n",
      "9                TULSI GILOY JUICE \n",
      "10               WHEAT GRASS JUICE \n",
      "11                      AMLA JUICE \n",
      "12                  GET SLIM JUICE \n",
      "13                    HIMALAYA OIL \n",
      "14                 VIGOR MAX JUICE \n",
      "15          ORGANIC JAGGERY POWDER \n",
      "16              APPLE CIDER VINEGAR\n",
      "17              VIRGIN COCONUT OIL \n",
      "18              KARELA JAMUN JUICE \n",
      "19    MASALA SUPERGRAIN MIX ENERGY \n",
      "20  MASALA SUPERGRAIN MIX IMMUNITY \n",
      "21              AMLA + GILOY JUICE \n",
      "22                  DIA FREE JUICE \n",
      "23               IMMUNE CARE JUICE \n",
      "24                 ORGANIC GULKAND \n",
      "25       VEGAN PROTEIN - CHOCOLATE \n",
      "26               GET SLIM CAPSULES \n",
      "27              RAW HONEY ( MADHU) \n"
     ]
    }
   ],
   "source": [
    "# Que 6. List of different products company is offering (packaging quantity doesn't matter. Ex. consider \"GET SLIM JUICE 1 L\" and \"GET SLIM JUICE 500 ML\" as one product)\n",
    "\n",
    "product_list = df[\"Product Name\"].str.split('\\d+').str[0].unique()\n",
    "pl = pd.DataFrame(product_list, columns = ['Product Name'])\n",
    "print(pl)"
   ]
  },
  {
   "cell_type": "code",
   "execution_count": 33,
   "id": "ee4d430b-60ea-46d0-b1d0-4ce9c25ea6c9",
   "metadata": {},
   "outputs": [],
   "source": [
    "# Que 7. Create a single excel file to save all the outputs generated above in different subsheets.\n",
    "\n",
    "with pd.ExcelWriter('FMCG Analysis by Chetan Tomar.xlsx') as writer:\n",
    "    Monthly_qty_sold.to_excel(writer, sheet_name='Monthwise Quantities')\n",
    "    cate_sales.to_excel(writer, sheet_name='Category-wise Qty')\n",
    "    sub_sales.to_excel(writer, sheet_name='Sub-channel Sales')\n",
    "    Monthly_highsales.to_excel(writer, sheet_name='Monthly Highest')\n",
    "    sub_sales.to_excel(writer, sheet_name='Sub-channel Sales')\n",
    "    pd.DataFrame([highest_selling_product]).to_excel(writer, sheet_name='Highest Sold Product')\n",
    "    pd.DataFrame(product_list, columns=[\"Product Name\"]).to_excel(writer, sheet_name='Product List')"
   ]
  },
  {
   "cell_type": "code",
   "execution_count": null,
   "id": "6b30f111-40a0-449d-9e42-7051ae0d0ef5",
   "metadata": {},
   "outputs": [],
   "source": []
  },
  {
   "cell_type": "code",
   "execution_count": null,
   "id": "f35dc174-6ca5-49cd-9948-8f47fa3fa522",
   "metadata": {},
   "outputs": [],
   "source": []
  }
 ],
 "metadata": {
  "kernelspec": {
   "display_name": "Python 3 (ipykernel)",
   "language": "python",
   "name": "python3"
  },
  "language_info": {
   "codemirror_mode": {
    "name": "ipython",
    "version": 3
   },
   "file_extension": ".py",
   "mimetype": "text/x-python",
   "name": "python",
   "nbconvert_exporter": "python",
   "pygments_lexer": "ipython3",
   "version": "3.10.9"
  }
 },
 "nbformat": 4,
 "nbformat_minor": 5
}
